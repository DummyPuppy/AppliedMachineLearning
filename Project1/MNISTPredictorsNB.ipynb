{
 "cells": [
  {
   "cell_type": "code",
   "execution_count": 128,
   "metadata": {},
   "outputs": [
    {
     "data": {
      "text/plain": [
       "(60000, 784)"
      ]
     },
     "execution_count": 128,
     "metadata": {},
     "output_type": "execute_result"
    }
   ],
   "source": [
    "import gzip\n",
    "import numpy as np\n",
    "\n",
    "f = gzip.open('datasets/mnist/train-images-idx3-ubyte.gz','r')\n",
    "f.read(16)\n",
    "buf = f.read(28 * 28 * 60000)\n",
    "X_train = np.frombuffer(buf, dtype=np.uint8).astype(np.float32)\n",
    "X_train = X_train.reshape(60000, 28 * 28)\n",
    "X_train.shape"
   ]
  },
  {
   "cell_type": "code",
   "execution_count": 132,
   "metadata": {},
   "outputs": [
    {
     "data": {
      "text/plain": [
       "<matplotlib.image.AxesImage at 0x7fd819bba100>"
      ]
     },
     "execution_count": 132,
     "metadata": {},
     "output_type": "execute_result"
    },
    {
     "data": {
      "image/png": "[encoded data removed]",
      "text/plain": [
       "<Figure size 432x288 with 1 Axes>"
      ]
     },
     "metadata": {
      "needs_background": "light"
     },
     "output_type": "display_data"
    }
   ],
   "source": [
    "#!pip import opencv-python\n",
    "import cv2\n",
    "\n",
    "img = X_train[0].reshape(28, 28, 1)\n",
    "resized = cv2.resize(img, (7, 7))\n",
    "plt.imshow(resized, cmap=plt.get_cmap('gray'))"
   ]
  },
  {
   "cell_type": "code",
   "execution_count": 131,
   "metadata": {},
   "outputs": [
    {
     "name": "stdout",
     "output_type": "stream",
     "text": [
      "[[  0.     0.     0.     0.     0.     0.     0.  ]\n",
      " [  0.     0.    32.5  135.5  197.25 234.75   0.  ]\n",
      " [  0.     0.    69.5   76.5   38.5    0.     0.  ]\n",
      " [  0.     0.     0.   196.75  36.25   0.     0.  ]\n",
      " [  0.     0.     0.    11.5  252.     0.     0.  ]\n",
      " [  0.     4.5  196.25 195.25   0.5    0.     0.  ]\n",
      " [  0.     0.     0.     0.     0.     0.     0.  ]]\n"
     ]
    }
   ],
   "source": [
    "print(resized)"
   ]
  },
  {
   "cell_type": "code",
   "execution_count": 126,
   "metadata": {},
   "outputs": [
    {
     "name": "stdout",
     "output_type": "stream",
     "text": [
      "High median = 3146, index = 407\n"
     ]
    },
    {
     "data": {
      "image/png": "[encoded data removed]",
      "text/plain": [
       "<Figure size 432x288 with 1 Axes>"
      ]
     },
     "metadata": {
      "needs_background": "light"
     },
     "output_type": "display_data"
    }
   ],
   "source": [
    "from matplotlib import pyplot as plt \n",
    "import numpy as np  \n",
    "\n",
    "high_med = -1\n",
    "high_i = -1\n",
    "for i in range(0,X_train.shape[1]):\n",
    "    arr = np.histogram(X_train[:,i], bins = np.linspace(0, 255, 8))\n",
    "    med = np.median(arr[0])\n",
    "    if med > high_med:\n",
    "        high_med = med\n",
    "        high_i = i\n",
    "\n",
    "print('High median = %i, index = %i' % (high_med, high_i))\n",
    "plt.hist(X_train[:,high_i], bins = np.linspace(0, 255, 8)) \n",
    "plt.title(\"distribution of values for pixel 407\") \n",
    "plt.show()"
   ]
  },
  {
   "cell_type": "code",
   "execution_count": 125,
   "metadata": {},
   "outputs": [
    {
     "data": {
      "image/png": "[encoded data removed]",
      "text/plain": [
       "<Figure size 432x288 with 1 Axes>"
      ]
     },
     "metadata": {
      "needs_background": "light"
     },
     "output_type": "display_data"
    }
   ],
   "source": [
    "plt.hist(X_train[:,0], bins = np.linspace(0, 255, 8)) \n",
    "plt.title(\"distribution of values for first pixel\") \n",
    "plt.show()"
   ]
  },
  {
   "cell_type": "code",
   "execution_count": 78,
   "metadata": {},
   "outputs": [
    {
     "name": "stdout",
     "output_type": "stream",
     "text": [
      "AUC: 0.77010\n"
     ]
    }
   ],
   "source": [
    "from sklearn.naive_bayes import MultinomialNB\n",
    "from sklearn.metrics import accuracy_score\n",
    "\n",
    "mnb = MultinomialNB()\n",
    "clf_mnb = mnb.fit(X_train_resized, y_train)\n",
    "y_pred = clf_mnb.predict(X_test_resized)\n",
    "print('AUC: %0.5f' % accuracy_score(y_test, y_pred))"
   ]
  },
  {
   "cell_type": "code",
   "execution_count": null,
   "metadata": {},
   "outputs": [],
   "source": []
  }
 ],
 "metadata": {
  "kernelspec": {
   "display_name": "base",
   "language": "python",
   "name": "base"
  },
  "language_info": {
   "codemirror_mode": {
    "name": "ipython",
    "version": 3
   },
   "file_extension": ".py",
   "mimetype": "text/x-python",
   "name": "python",
   "nbconvert_exporter": "python",
   "pygments_lexer": "ipython3",
   "version": "3.8.5"
  }
 },
 "nbformat": 4,
 "nbformat_minor": 4
}
